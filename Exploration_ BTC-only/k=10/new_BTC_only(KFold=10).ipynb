{
  "nbformat": 4,
  "nbformat_minor": 0,
  "metadata": {
    "colab": {
      "provenance": []
    },
    "kernelspec": {
      "name": "python3",
      "display_name": "Python 3"
    },
    "language_info": {
      "name": "python"
    }
  },
  "cells": [
    {
      "cell_type": "markdown",
      "source": [
        "**K=10**\n",
        "\n",
        "initialization of k-fold function"
      ],
      "metadata": {
        "id": "5OjbIJq_8fZz"
      }
    },
    {
      "cell_type": "code",
      "source": [
        "import pandas as pd\n",
        "import numpy as np\n",
        "from sklearn.feature_selection import RFE\n",
        "from sklearn.svm import SVC\n",
        "from sklearn.model_selection import GridSearchCV\n",
        "from sklearn.metrics import make_scorer, roc_auc_score, f1_score\n",
        "merged_df3=pd.read_csv('btc_only_df.csv')\n",
        "\n",
        "#time series k fold cross validation split where k=10\n",
        "import math\n",
        "\n",
        "def k_fold_time_series_blocking(k=10):\n",
        "    merged_df3.reset_index(drop=True, inplace=True)\n",
        "    n=len(merged_df3)\n",
        "    fold_size=n//k\n",
        "    train_size= math.floor(0.8 * fold_size)\n",
        "    test_size=math.floor(0.2*fold_size)\n",
        "\n",
        "    indexes=[]\n",
        "\n",
        "    for i in range(k):\n",
        "        start_train=i*fold_size\n",
        "        end_train=start_train+train_size-1\n",
        "        start_test=end_train+1\n",
        "        end_test=start_test+test_size-1\n",
        "        yield np.arange(start_train, end_train, dtype=int),np.arange(start_test, end_test, dtype=int)"
      ],
      "metadata": {
        "id": "iAFKu76r6HYL"
      },
      "execution_count": 24,
      "outputs": []
    },
    {
      "cell_type": "code",
      "source": [
        "max_features=len(merged_df3.drop(columns=['Date','Close2','Close2-Close1','next_day_close_increased']).columns)\n"
      ],
      "metadata": {
        "id": "Ovqla2-ZAKb_"
      },
      "execution_count": 25,
      "outputs": []
    },
    {
      "cell_type": "code",
      "source": [
        "print(max_features)"
      ],
      "metadata": {
        "colab": {
          "base_uri": "https://localhost:8080/"
        },
        "id": "NCZzk_Kcbx0F",
        "outputId": "e5937e44-2757-434a-fb87-9610cf079b54"
      },
      "execution_count": 26,
      "outputs": [
        {
          "output_type": "stream",
          "name": "stdout",
          "text": [
            "16\n"
          ]
        }
      ]
    },
    {
      "cell_type": "markdown",
      "source": [
        "**General structure for each type of models**\n",
        "\n",
        "We will be automating the hyperparameter tuning (using GridSearch) and feature selection process (using SelectKbest)\n",
        "\n",
        "\n",
        "for each of the type of models below:\n",
        "\n",
        "1.Select n best features based on mutual_info_regression\n",
        "\n",
        "2.pass these n features into the model and conduct grid search with cross-validation , select the best hyperparameters based on aggregated f1 score over k folds\n",
        "\n",
        "3.for the best esimator , print its hyperparameters ,features selected as well as scores\n",
        "\n",
        "4.repeat for different n ( 3 to max_number of feature columns in dataset)"
      ],
      "metadata": {
        "id": "ZkjwOabs7puq"
      }
    },
    {
      "cell_type": "markdown",
      "source": [
        "**SVM-poly kernel**\n",
        "\n",
        "\n"
      ],
      "metadata": {
        "id": "E_BpBc6N56KJ"
      }
    },
    {
      "cell_type": "code",
      "source": [
        "from sklearn.feature_selection import SelectKBest, mutual_info_regression\n",
        "from sklearn.pipeline import Pipeline\n",
        "def svmPolypipeline(n):\n",
        "\n",
        "\n",
        "  pipeline = Pipeline([\n",
        "      ('feature_selection', SelectKBest(mutual_info_regression,k=n)),\n",
        "      ('svm', SVC(kernel='poly'))\n",
        "  ])\n",
        "\n",
        "  #  Define parameter grid for GridSearchCV\n",
        "  param_grid = {\n",
        "\n",
        "      'svm__C': [0.1, 1, 10],                # Regularization parameter\n",
        "      'svm__degree': [2, 3, 4],              # Degree of the polynomial kernel\n",
        "      'svm__coef0': [0.0, 1.0, 2.0]          # Independent term in the polynomial kernel\n",
        "  }\n",
        "  f1_scorer = make_scorer(f1_score)\n",
        "  roc_auc_scorer = make_scorer(roc_auc_score)\n",
        "\n",
        "  input=merged_df3.drop(columns=['Date','Close2','Close2-Close1','next_day_close_increased'])\n",
        "  out=merged_df3['next_day_close_increased']\n",
        "\n",
        "  # Perform grid search with cross-validation\n",
        "  #select best estimator using aggregated f1 score over all k fold as defined by refit='f1'\n",
        "  grid_search = GridSearchCV(pipeline, param_grid=param_grid, cv=k_fold_time_series_blocking(),scoring={'f1': f1_scorer, 'roc_auc': roc_auc_scorer}, refit='f1', verbose=0)\n",
        "  grid_result = grid_search.fit(input, out)\n",
        "\n",
        "  #retrieving and printing the selected features and hyperparameters\n",
        "  selected_feature_names=[]\n",
        "  selected_features_bool=grid_result.best_estimator_.named_steps['feature_selection'].get_support()\n",
        "  for i in range(len(selected_features_bool)):\n",
        "    if(selected_features_bool[i]):\n",
        "      selected_feature_names.append(input.columns[i])\n",
        "\n",
        "  print(\"Selected Features:\", selected_feature_names)\n",
        "\n",
        "  print(\"Best F1 Score:\", grid_result.best_score_) #print best score\n",
        "  print(\"Best Parameters:\", grid_result.best_params_) #print best hyperparameters\n",
        "\n",
        "  #get best weights\n",
        "  best_estimator = grid_result.best_estimator_\n",
        "\n",
        "  # Access the RandomForestClassifier from the best estimator\n",
        "  svm_model = best_estimator.named_steps['svm']\n",
        "\n",
        "\n",
        "  return svm_model,grid_result.best_score_,selected_feature_names\n"
      ],
      "metadata": {
        "id": "1OSmjTk6-qTD"
      },
      "execution_count": 27,
      "outputs": []
    },
    {
      "cell_type": "code",
      "source": [
        "all_weights={}\n",
        "all_selected_features={}\n",
        "max_f1_index=0\n",
        "max_f1=0\n",
        "\n",
        "for i in range(3,16):\n",
        "  print(\"i: \",i)\n",
        "  weights,best_f1,selected_features=svmPolypipeline(i) #i is number of features\n",
        "\n",
        "  max_f1=max(max_f1,best_f1)\n",
        "  if max_f1==best_f1:\n",
        "    max_f1_index=i\n",
        "\n",
        "  all_weights[i]=weights\n",
        "  all_selected_features[i]=selected_features\n",
        "\n",
        "\n",
        "print(\"index:\",max_f1_index)\n",
        "print(\"max_f1:\",max_f1)"
      ],
      "metadata": {
        "colab": {
          "base_uri": "https://localhost:8080/"
        },
        "id": "nVBzNKqY-t8z",
        "outputId": "cf4d7317-04ec-4f02-bfe6-f6ec48faeb0c"
      },
      "execution_count": 28,
      "outputs": [
        {
          "output_type": "stream",
          "name": "stdout",
          "text": [
            "i:  3\n",
            "Selected Features: ['Volume', 'macd', 'OBV']\n",
            "Best F1 Score: 0.3674303405572756\n",
            "Best Parameters: {'svm__C': 10, 'svm__coef0': 0.0, 'svm__degree': 3}\n",
            "i:  4\n",
            "Selected Features: ['Volume', 'macd', 'macd_signal', 'OBV']\n",
            "Best F1 Score: 0.4311589580010632\n",
            "Best Parameters: {'svm__C': 10, 'svm__coef0': 2.0, 'svm__degree': 4}\n",
            "i:  5\n",
            "Selected Features: ['Volume', 'macd', 'macd_signal', 'High-Low', 'OBV']\n",
            "Best F1 Score: 0.33612010796221325\n",
            "Best Parameters: {'svm__C': 10, 'svm__coef0': 1.0, 'svm__degree': 4}\n",
            "i:  6\n",
            "Selected Features: ['High', 'Volume', 'macd', 'macd_signal', 'High-Low', 'OBV']\n",
            "Best F1 Score: 0.34237516869095813\n",
            "Best Parameters: {'svm__C': 1, 'svm__coef0': 0.0, 'svm__degree': 4}\n",
            "i:  7\n",
            "Selected Features: ['High', 'Adj Close', 'Volume', 'macd', 'macd_signal', 'High-Low', 'OBV']\n",
            "Best F1 Score: 0.3698965362123257\n",
            "Best Parameters: {'svm__C': 1, 'svm__coef0': 2.0, 'svm__degree': 2}\n",
            "i:  8\n",
            "Selected Features: ['High', 'Close', 'Adj Close', 'Volume', 'macd', 'macd_signal', 'High-Low', 'OBV']\n",
            "Best F1 Score: 0.37123321123321124\n",
            "Best Parameters: {'svm__C': 1, 'svm__coef0': 2.0, 'svm__degree': 2}\n",
            "i:  9\n",
            "Selected Features: ['High', 'Close', 'Adj Close', 'Volume', 'RSI_14', 'macd', 'macd_signal', 'High-Low', 'OBV']\n",
            "Best F1 Score: 0.3655738705738706\n",
            "Best Parameters: {'svm__C': 1, 'svm__coef0': 1.0, 'svm__degree': 2}\n",
            "i:  10\n",
            "Selected Features: ['High', 'Close', 'Adj Close', 'Volume', 'RSI_14', 'macd', 'macd_signal', 'BB_lower', 'High-Low', 'OBV']\n",
            "Best F1 Score: 0.42858585858585857\n",
            "Best Parameters: {'svm__C': 10, 'svm__coef0': 2.0, 'svm__degree': 3}\n",
            "i:  11\n",
            "Selected Features: ['Open', 'High', 'Close', 'Adj Close', 'Volume', 'RSI_14', 'macd', 'macd_signal', 'BB_lower', 'High-Low', 'OBV']\n",
            "Best F1 Score: 0.4012823725981621\n",
            "Best Parameters: {'svm__C': 1, 'svm__coef0': 1.0, 'svm__degree': 2}\n",
            "i:  12\n",
            "Selected Features: ['Open', 'High', 'Close', 'Adj Close', 'Volume', 'RSI_14', 'macd', 'macd_signal', 'BB_lower', 'High-Low', 'OBV', 'BB_height']\n",
            "Best F1 Score: 0.4337948601106495\n",
            "Best Parameters: {'svm__C': 0.1, 'svm__coef0': 0.0, 'svm__degree': 4}\n",
            "i:  13\n",
            "Selected Features: ['Open', 'High', 'Close', 'Adj Close', 'Volume', 'RSI_14', 'macd', 'macd_signal', 'BB_lower', 'Close-Open', 'High-Low', 'OBV', 'BB_height']\n",
            "Best F1 Score: 0.4330589293747188\n",
            "Best Parameters: {'svm__C': 1, 'svm__coef0': 0.0, 'svm__degree': 3}\n",
            "i:  14\n",
            "Selected Features: ['Open', 'High', 'Close', 'Adj Close', 'Volume', 'RSI_14', 'macd', 'macd_signal', 'BB_middle', 'BB_lower', 'Close-Open', 'High-Low', 'OBV', 'BB_height']\n",
            "Best F1 Score: 0.3946950710108605\n",
            "Best Parameters: {'svm__C': 0.1, 'svm__coef0': 2.0, 'svm__degree': 4}\n",
            "i:  15\n",
            "Selected Features: ['Open', 'High', 'Close', 'Adj Close', 'Volume', 'RSI_14', 'macd', 'macd_signal', 'BB_upper', 'BB_middle', 'BB_lower', 'Close-Open', 'High-Low', 'OBV', 'BB_height']\n",
            "Best F1 Score: 0.4004093567251462\n",
            "Best Parameters: {'svm__C': 0.1, 'svm__coef0': 2.0, 'svm__degree': 4}\n",
            "index: 12\n",
            "max_f1: 0.4337948601106495\n"
          ]
        }
      ]
    },
    {
      "cell_type": "code",
      "source": [
        "import pickle\n",
        "poly_model=all_weights[max_f1_index]\n",
        "with open('poly_svm_model_k10_BTC_only.pkl', 'wb') as f:\n",
        "    pickle.dump(poly_model, f)"
      ],
      "metadata": {
        "id": "UPuTL4xTcLFb"
      },
      "execution_count": 29,
      "outputs": []
    },
    {
      "cell_type": "code",
      "source": [
        "# Use the loaded model to make predictions on new data\n",
        "import pickle\n",
        "from sklearn.metrics import classification_report\n",
        "\n",
        "df_backtest=pd.read_csv('BTC-USD-backtest-cleaned-final.csv')#backtest dataset\n",
        "\n",
        "with open('poly_svm_model_k10_BTC_only.pkl', 'rb') as f:\n",
        "    trained_model = pickle.load(f)\n",
        "\n",
        "\n",
        "selected_feats=all_selected_features[max_f1_index]\n",
        "print(selected_feats)\n",
        "X_test = df_backtest[selected_feats]\n",
        "y_true=df_backtest['next_day_close_increased']\n",
        "predictions = trained_model.predict(X_test.values)\n",
        "\n",
        "# Generate the classification report\n",
        "report = classification_report(y_true, predictions)\n",
        "\n",
        "# Print the classification report\n",
        "print(report)"
      ],
      "metadata": {
        "colab": {
          "base_uri": "https://localhost:8080/"
        },
        "id": "h9a573KBciCf",
        "outputId": "95faa365-f650-4831-ff42-d73a2b084d98"
      },
      "execution_count": 31,
      "outputs": [
        {
          "output_type": "stream",
          "name": "stdout",
          "text": [
            "['Open', 'High', 'Close', 'Adj Close', 'Volume', 'RSI_14', 'macd', 'macd_signal', 'BB_lower', 'High-Low', 'OBV', 'BB_height']\n",
            "              precision    recall  f1-score   support\n",
            "\n",
            "           0       0.67      0.67      0.67        18\n",
            "           1       0.54      0.54      0.54        13\n",
            "\n",
            "    accuracy                           0.61        31\n",
            "   macro avg       0.60      0.60      0.60        31\n",
            "weighted avg       0.61      0.61      0.61        31\n",
            "\n"
          ]
        }
      ]
    },
    {
      "cell_type": "markdown",
      "source": [
        "**SVM-RBF**"
      ],
      "metadata": {
        "id": "S5BWhMp5-3I8"
      }
    },
    {
      "cell_type": "code",
      "source": [
        "from sklearn.feature_selection import SelectKBest, mutual_info_regression\n",
        "from sklearn.pipeline import Pipeline\n",
        "def svmRBFpipeline(n):\n",
        "  pipeline = Pipeline([\n",
        "      ('feature_selection', SelectKBest(mutual_info_regression,k=n)),\n",
        "      ('svm', SVC(kernel='rbf'))\n",
        "  ])\n",
        "  param_grid = {\n",
        "\n",
        "      'svm__C': [0.1, 1, 10],                # Regularization parameter\n",
        "      'svm__gamma': [0.1, 1, 10, 100],\n",
        "\n",
        "  }\n",
        "\n",
        "  f1_scorer = make_scorer(f1_score)\n",
        "  roc_auc_scorer = make_scorer(roc_auc_score)\n",
        "\n",
        "  input=merged_df3.drop(columns=['Date','Close2','Close2-Close1','next_day_close_increased'])\n",
        "  out=merged_df3['next_day_close_increased']\n",
        "\n",
        "  # 5. Perform grid search with cross-validation\n",
        "  grid_search = GridSearchCV(pipeline, param_grid=param_grid, cv=k_fold_time_series_blocking(),scoring={'f1': f1_scorer, 'roc_auc': roc_auc_scorer}, refit='f1', verbose=0)\n",
        "  grid_result = grid_search.fit(input, out)\n",
        "\n",
        "  selected_feature_names=[]\n",
        "  selected_features_bool=grid_result.best_estimator_.named_steps['feature_selection'].get_support()\n",
        "  for i in range(len(selected_features_bool)):\n",
        "    if(selected_features_bool[i]):\n",
        "      selected_feature_names.append(input.columns[i])\n",
        "\n",
        "  print(\"Selected Features:\", selected_feature_names)\n",
        "\n",
        "  print(\"Best F1 Score:\", grid_result.best_score_)\n",
        "  print(\"Best Parameters:\", grid_result.best_params_)\n",
        "  #get best weights\n",
        "  best_estimator = grid_result.best_estimator_\n",
        "\n",
        "  # Access the RandomForestClassifier from the best estimator\n",
        "  svm_model = best_estimator.named_steps['svm']\n",
        "\n",
        "\n",
        "  return svm_model,grid_result.best_score_,selected_feature_names"
      ],
      "metadata": {
        "id": "m5npQwbk-6Q4"
      },
      "execution_count": 32,
      "outputs": []
    },
    {
      "cell_type": "code",
      "source": [
        "all_weights={}\n",
        "all_selected_features={}\n",
        "max_f1_index=0\n",
        "max_f1=0\n",
        "\n",
        "for i in range(3,16):\n",
        "  print(\"i: \",i)\n",
        "  weights,best_f1,selected_features=svmRBFpipeline(i) #i is number of features\n",
        "\n",
        "  max_f1=max(max_f1,best_f1)\n",
        "  if max_f1==best_f1:\n",
        "    max_f1_index=i\n",
        "\n",
        "  all_weights[i]=weights\n",
        "  all_selected_features[i]=selected_features\n",
        "\n",
        "\n",
        "print(\"index:\",max_f1_index)\n",
        "print(\"max_f1:\",max_f1)"
      ],
      "metadata": {
        "colab": {
          "base_uri": "https://localhost:8080/"
        },
        "id": "m__qyIFP--Qq",
        "outputId": "63a3b756-2a53-46e3-fd38-473c50e6d859"
      },
      "execution_count": 33,
      "outputs": [
        {
          "output_type": "stream",
          "name": "stdout",
          "text": [
            "i:  3\n",
            "Selected Features: ['Volume', 'macd', 'OBV']\n",
            "Best F1 Score: 0.3230974708724069\n",
            "Best Parameters: {'svm__C': 10, 'svm__gamma': 1}\n",
            "i:  4\n",
            "Selected Features: ['Volume', 'macd', 'macd_signal', 'OBV']\n",
            "Best F1 Score: 0.4549443461595164\n",
            "Best Parameters: {'svm__C': 10, 'svm__gamma': 100}\n",
            "i:  5\n",
            "Selected Features: ['Volume', 'macd', 'macd_signal', 'High-Low', 'OBV']\n",
            "Best F1 Score: 0.3533752496213796\n",
            "Best Parameters: {'svm__C': 10, 'svm__gamma': 100}\n",
            "i:  6\n",
            "Selected Features: ['High', 'Volume', 'macd', 'macd_signal', 'High-Low', 'OBV']\n",
            "Best F1 Score: 0.3905955877627704\n",
            "Best Parameters: {'svm__C': 10, 'svm__gamma': 100}\n",
            "i:  7\n",
            "Selected Features: ['High', 'Adj Close', 'Volume', 'macd', 'macd_signal', 'High-Low', 'OBV']\n",
            "Best F1 Score: 0.4421129360835243\n",
            "Best Parameters: {'svm__C': 10, 'svm__gamma': 100}\n",
            "i:  8\n",
            "Selected Features: ['High', 'Close', 'Adj Close', 'Volume', 'macd', 'macd_signal', 'High-Low', 'OBV']\n",
            "Best F1 Score: 0.3992557932263815\n",
            "Best Parameters: {'svm__C': 10, 'svm__gamma': 100}\n",
            "i:  9\n",
            "Selected Features: ['High', 'Close', 'Adj Close', 'Volume', 'RSI_14', 'macd', 'macd_signal', 'High-Low', 'OBV']\n",
            "Best F1 Score: 0.41855403884041653\n",
            "Best Parameters: {'svm__C': 10, 'svm__gamma': 100}\n",
            "i:  10\n",
            "Selected Features: ['High', 'Close', 'Adj Close', 'Volume', 'RSI_14', 'macd', 'macd_signal', 'BB_lower', 'High-Low', 'OBV']\n",
            "Best F1 Score: 0.36634920634920637\n",
            "Best Parameters: {'svm__C': 10, 'svm__gamma': 1}\n",
            "i:  11\n",
            "Selected Features: ['Open', 'High', 'Close', 'Adj Close', 'Volume', 'RSI_14', 'macd', 'macd_signal', 'BB_lower', 'High-Low', 'OBV']\n",
            "Best F1 Score: 0.35519140989729225\n",
            "Best Parameters: {'svm__C': 10, 'svm__gamma': 1}\n",
            "i:  12\n",
            "Selected Features: ['Open', 'High', 'Close', 'Adj Close', 'Volume', 'RSI_14', 'macd', 'macd_signal', 'BB_lower', 'High-Low', 'OBV', 'BB_height']\n",
            "Best F1 Score: 0.36656000346402823\n",
            "Best Parameters: {'svm__C': 10, 'svm__gamma': 10}\n",
            "i:  13\n",
            "Selected Features: ['Open', 'High', 'Close', 'Adj Close', 'Volume', 'RSI_14', 'macd', 'macd_signal', 'BB_lower', 'Close-Open', 'High-Low', 'OBV', 'BB_height']\n",
            "Best F1 Score: 0.39960250276039744\n",
            "Best Parameters: {'svm__C': 10, 'svm__gamma': 10}\n",
            "i:  14\n",
            "Selected Features: ['Open', 'High', 'Close', 'Adj Close', 'Volume', 'RSI_14', 'macd', 'macd_signal', 'BB_middle', 'BB_lower', 'Close-Open', 'High-Low', 'OBV', 'BB_height']\n",
            "Best F1 Score: 0.4587944219523167\n",
            "Best Parameters: {'svm__C': 10, 'svm__gamma': 10}\n",
            "i:  15\n",
            "Selected Features: ['Open', 'High', 'Close', 'Adj Close', 'Volume', 'RSI_14', 'macd', 'macd_signal', 'BB_upper', 'BB_middle', 'BB_lower', 'Close-Open', 'High-Low', 'OBV', 'BB_height']\n",
            "Best F1 Score: 0.4820546558704454\n",
            "Best Parameters: {'svm__C': 10, 'svm__gamma': 10}\n",
            "index: 15\n",
            "max_f1: 0.4820546558704454\n"
          ]
        }
      ]
    },
    {
      "cell_type": "code",
      "source": [
        "import pickle\n",
        "rbf_model=all_weights[max_f1_index]\n",
        "with open('rbf_svm_model_k10_BTC_only.pkl', 'wb') as f:\n",
        "    pickle.dump(rbf_model, f)"
      ],
      "metadata": {
        "id": "sCHSALnrekcf"
      },
      "execution_count": 34,
      "outputs": []
    },
    {
      "cell_type": "code",
      "source": [
        "# Use the loaded model to make predictions on new data\n",
        "\n",
        "from sklearn.metrics import classification_report\n",
        "\n",
        "df_backtest=pd.read_csv('BTC-USD-backtest-cleaned-final.csv')#backtest dataset\n",
        "\n",
        "with open('rbf_svm_model_k10_BTC_only.pkl', 'rb') as f:\n",
        "    trained_model = pickle.load(f)\n",
        "\n",
        "\n",
        "selected_feats=all_selected_features[max_f1_index]\n",
        "X_test = df_backtest[selected_feats]\n",
        "y_true=df_backtest['next_day_close_increased']\n",
        "predictions = trained_model.predict(X_test.values)\n",
        "\n",
        "# Generate the classification report\n",
        "report = classification_report(y_true, predictions)\n",
        "\n",
        "# Print the classification report\n",
        "print(report)"
      ],
      "metadata": {
        "colab": {
          "base_uri": "https://localhost:8080/"
        },
        "id": "Bf0ZrtcBeYFD",
        "outputId": "fb4b3887-b583-4211-c0af-1a3fd3ca878d"
      },
      "execution_count": 35,
      "outputs": [
        {
          "output_type": "stream",
          "name": "stdout",
          "text": [
            "              precision    recall  f1-score   support\n",
            "\n",
            "           0       0.00      0.00      0.00        18\n",
            "           1       0.42      1.00      0.59        13\n",
            "\n",
            "    accuracy                           0.42        31\n",
            "   macro avg       0.21      0.50      0.30        31\n",
            "weighted avg       0.18      0.42      0.25        31\n",
            "\n"
          ]
        },
        {
          "output_type": "stream",
          "name": "stderr",
          "text": [
            "/usr/local/lib/python3.10/dist-packages/sklearn/metrics/_classification.py:1344: UndefinedMetricWarning: Precision and F-score are ill-defined and being set to 0.0 in labels with no predicted samples. Use `zero_division` parameter to control this behavior.\n",
            "  _warn_prf(average, modifier, msg_start, len(result))\n",
            "/usr/local/lib/python3.10/dist-packages/sklearn/metrics/_classification.py:1344: UndefinedMetricWarning: Precision and F-score are ill-defined and being set to 0.0 in labels with no predicted samples. Use `zero_division` parameter to control this behavior.\n",
            "  _warn_prf(average, modifier, msg_start, len(result))\n",
            "/usr/local/lib/python3.10/dist-packages/sklearn/metrics/_classification.py:1344: UndefinedMetricWarning: Precision and F-score are ill-defined and being set to 0.0 in labels with no predicted samples. Use `zero_division` parameter to control this behavior.\n",
            "  _warn_prf(average, modifier, msg_start, len(result))\n"
          ]
        }
      ]
    },
    {
      "cell_type": "markdown",
      "source": [
        "**RF**"
      ],
      "metadata": {
        "id": "F3NpBASb58l-"
      }
    },
    {
      "cell_type": "code",
      "source": [
        "from sklearn.feature_selection import SelectKBest, mutual_info_regression\n",
        "from sklearn.pipeline import Pipeline\n",
        "from sklearn.ensemble import RandomForestClassifier\n",
        "def RFpipeline(n):\n",
        "\n",
        "  pipeline = Pipeline([\n",
        "      ('feature_selection', SelectKBest(mutual_info_regression,k=n)),\n",
        "      ('RF', RandomForestClassifier())\n",
        "  ])\n",
        "\n",
        "  #  Define parameter grid for GridSearchCV\n",
        "  param_grid = {\n",
        "      'RF__n_estimators': [50, 100, 200],\n",
        "      'RF__max_depth': [None, 10, 20],\n",
        "      'RF__min_samples_split': [2, 5, 10],\n",
        "      'RF__min_samples_leaf': [1, 2, 4]\n",
        "  }\n",
        "  f1_scorer = make_scorer(f1_score)\n",
        "  roc_auc_scorer = make_scorer(roc_auc_score)\n",
        "\n",
        "  input=merged_df3.drop(columns=['Date','Close2','Close2-Close1','next_day_close_increased'])\n",
        "  out=merged_df3['next_day_close_increased']\n",
        "\n",
        "  # 5. Perform grid search with cross-validation\n",
        "  grid_search = GridSearchCV(pipeline, param_grid=param_grid, cv=k_fold_time_series_blocking(),scoring={'f1': f1_scorer, 'roc_auc': roc_auc_scorer}, refit='f1', verbose=0)\n",
        "  grid_result = grid_search.fit(input, out)\n",
        "\n",
        "  selected_feature_names=[]\n",
        "  selected_features_bool=grid_result.best_estimator_.named_steps['feature_selection'].get_support()\n",
        "  for i in range(len(selected_features_bool)):\n",
        "    if(selected_features_bool[i]):\n",
        "      selected_feature_names.append(input.columns[i])\n",
        "\n",
        "  print(\"Selected Features:\", selected_feature_names)\n",
        "\n",
        "  print(\"Best F1 Score:\", grid_result.best_score_)\n",
        "  print(\"Best Parameters:\", grid_result.best_params_)\n",
        "  #get best weights\n",
        "  best_estimator = grid_result.best_estimator_\n",
        "\n",
        "  # Access the RandomForestClassifier from the best estimator\n",
        "  rf_model = best_estimator.named_steps['RF']\n",
        "\n",
        "\n",
        "  return rf_model,grid_result.best_score_,selected_feature_names"
      ],
      "metadata": {
        "id": "bELi7Z13UYtJ"
      },
      "execution_count": 36,
      "outputs": []
    },
    {
      "cell_type": "code",
      "source": [
        "all_weights={}\n",
        "all_selected_features={}\n",
        "max_f1_index=0\n",
        "max_f1=0\n",
        "\n",
        "for i in range(3,16):\n",
        "  print(\"i: \",i)\n",
        "  weights,best_f1,selected_features=RFpipeline(i) #i is number of features\n",
        "\n",
        "  max_f1=max(max_f1,best_f1)\n",
        "  if max_f1==best_f1:\n",
        "    max_f1_index=i\n",
        "\n",
        "  all_weights[i]=weights\n",
        "  all_selected_features[i]=selected_features\n",
        "\n",
        "\n",
        "print(\"index:\",max_f1_index)\n",
        "print(\"max_f1:\",max_f1)"
      ],
      "metadata": {
        "colab": {
          "base_uri": "https://localhost:8080/"
        },
        "id": "N6NtF3q2goJf",
        "outputId": "803b3b7c-1565-4b06-fadb-0846d5d7cc26"
      },
      "execution_count": 37,
      "outputs": [
        {
          "output_type": "stream",
          "name": "stdout",
          "text": [
            "i:  3\n",
            "Selected Features: ['Volume', 'macd', 'OBV']\n",
            "Best F1 Score: 0.321038961038961\n",
            "Best Parameters: {'RF__max_depth': None, 'RF__min_samples_leaf': 1, 'RF__min_samples_split': 2, 'RF__n_estimators': 50}\n",
            "i:  4\n",
            "Selected Features: ['Volume', 'macd', 'macd_signal', 'OBV']\n",
            "Best F1 Score: 0.38831932773109246\n",
            "Best Parameters: {'RF__max_depth': 20, 'RF__min_samples_leaf': 2, 'RF__min_samples_split': 10, 'RF__n_estimators': 50}\n",
            "i:  5\n",
            "Selected Features: ['Volume', 'macd', 'macd_signal', 'High-Low', 'OBV']\n",
            "Best F1 Score: 0.420982905982906\n",
            "Best Parameters: {'RF__max_depth': None, 'RF__min_samples_leaf': 4, 'RF__min_samples_split': 5, 'RF__n_estimators': 200}\n",
            "i:  6\n",
            "Selected Features: ['High', 'Volume', 'macd', 'macd_signal', 'High-Low', 'OBV']\n",
            "Best F1 Score: 0.41663861766028953\n",
            "Best Parameters: {'RF__max_depth': 10, 'RF__min_samples_leaf': 4, 'RF__min_samples_split': 5, 'RF__n_estimators': 50}\n",
            "i:  7\n",
            "Selected Features: ['High', 'Adj Close', 'Volume', 'macd', 'macd_signal', 'High-Low', 'OBV']\n",
            "Best F1 Score: 0.4300100553041729\n",
            "Best Parameters: {'RF__max_depth': 10, 'RF__min_samples_leaf': 1, 'RF__min_samples_split': 2, 'RF__n_estimators': 200}\n",
            "i:  8\n",
            "Selected Features: ['High', 'Close', 'Adj Close', 'Volume', 'macd', 'macd_signal', 'High-Low', 'OBV']\n",
            "Best F1 Score: 0.425530303030303\n",
            "Best Parameters: {'RF__max_depth': None, 'RF__min_samples_leaf': 1, 'RF__min_samples_split': 2, 'RF__n_estimators': 50}\n",
            "i:  9\n",
            "Selected Features: ['High', 'Close', 'Adj Close', 'Volume', 'RSI_14', 'macd', 'macd_signal', 'High-Low', 'OBV']\n",
            "Best F1 Score: 0.47362637362637355\n",
            "Best Parameters: {'RF__max_depth': 10, 'RF__min_samples_leaf': 2, 'RF__min_samples_split': 10, 'RF__n_estimators': 50}\n",
            "i:  10\n",
            "Selected Features: ['High', 'Close', 'Adj Close', 'Volume', 'RSI_14', 'macd', 'macd_signal', 'BB_lower', 'High-Low', 'OBV']\n",
            "Best F1 Score: 0.44532051282051277\n",
            "Best Parameters: {'RF__max_depth': 20, 'RF__min_samples_leaf': 4, 'RF__min_samples_split': 10, 'RF__n_estimators': 100}\n",
            "i:  11\n",
            "Selected Features: ['Open', 'High', 'Close', 'Adj Close', 'Volume', 'RSI_14', 'macd', 'macd_signal', 'BB_lower', 'High-Low', 'OBV']\n",
            "Best F1 Score: 0.4651484480431849\n",
            "Best Parameters: {'RF__max_depth': None, 'RF__min_samples_leaf': 1, 'RF__min_samples_split': 2, 'RF__n_estimators': 100}\n",
            "i:  12\n",
            "Selected Features: ['Open', 'High', 'Close', 'Adj Close', 'Volume', 'RSI_14', 'macd', 'macd_signal', 'BB_lower', 'High-Low', 'OBV', 'BB_height']\n",
            "Best F1 Score: 0.42587838374216086\n",
            "Best Parameters: {'RF__max_depth': None, 'RF__min_samples_leaf': 2, 'RF__min_samples_split': 5, 'RF__n_estimators': 50}\n",
            "i:  13\n",
            "Selected Features: ['Open', 'High', 'Close', 'Adj Close', 'Volume', 'RSI_14', 'macd', 'macd_signal', 'BB_lower', 'Close-Open', 'High-Low', 'OBV', 'BB_height']\n",
            "Best F1 Score: 0.4548984348984349\n",
            "Best Parameters: {'RF__max_depth': 10, 'RF__min_samples_leaf': 4, 'RF__min_samples_split': 2, 'RF__n_estimators': 50}\n",
            "i:  14\n",
            "Selected Features: ['Open', 'High', 'Close', 'Adj Close', 'Volume', 'RSI_14', 'macd', 'macd_signal', 'BB_middle', 'BB_lower', 'Close-Open', 'High-Low', 'OBV', 'BB_height']\n",
            "Best F1 Score: 0.46513924671819407\n",
            "Best Parameters: {'RF__max_depth': None, 'RF__min_samples_leaf': 1, 'RF__min_samples_split': 10, 'RF__n_estimators': 50}\n",
            "i:  15\n",
            "Selected Features: ['Open', 'High', 'Close', 'Adj Close', 'Volume', 'RSI_14', 'macd', 'macd_signal', 'BB_upper', 'BB_middle', 'BB_lower', 'Close-Open', 'High-Low', 'OBV', 'BB_height']\n",
            "Best F1 Score: 0.48049961734172264\n",
            "Best Parameters: {'RF__max_depth': 10, 'RF__min_samples_leaf': 2, 'RF__min_samples_split': 5, 'RF__n_estimators': 50}\n",
            "index: 15\n",
            "max_f1: 0.48049961734172264\n"
          ]
        }
      ]
    },
    {
      "cell_type": "code",
      "source": [
        "import pickle\n",
        "rf_model=all_weights[max_f1_index]\n",
        "with open('random_forest_model_k10_BTC_only.pkl', 'wb') as f:\n",
        "    pickle.dump(rf_model, f)"
      ],
      "metadata": {
        "id": "pxi0SiO_fGG8"
      },
      "execution_count": 38,
      "outputs": []
    },
    {
      "cell_type": "code",
      "source": [
        "# Use the loaded model to make predictions on new data\n",
        "\n",
        "from sklearn.metrics import classification_report\n",
        "\n",
        "df_backtest=pd.read_csv('BTC-USD-backtest-cleaned-final.csv')#backtest dataset\n",
        "\n",
        "with open('random_forest_model_k10_BTC_only.pkl', 'rb') as f:\n",
        "    trained_model = pickle.load(f)\n",
        "\n",
        "\n",
        "selected_feats=all_selected_features[max_f1_index]\n",
        "X_test = df_backtest[selected_feats]\n",
        "y_true=df_backtest['next_day_close_increased']\n",
        "predictions = trained_model.predict(X_test.values)\n",
        "\n",
        "# Generate the classification report\n",
        "report = classification_report(y_true, predictions)\n",
        "\n",
        "# Print the classification report\n",
        "print(report)"
      ],
      "metadata": {
        "id": "Ofg3d-Agfz1R",
        "colab": {
          "base_uri": "https://localhost:8080/"
        },
        "outputId": "9ce74bd8-5e37-4d64-9122-4a41b9e90e25"
      },
      "execution_count": 39,
      "outputs": [
        {
          "output_type": "stream",
          "name": "stdout",
          "text": [
            "              precision    recall  f1-score   support\n",
            "\n",
            "           0       0.67      0.56      0.61        18\n",
            "           1       0.50      0.62      0.55        13\n",
            "\n",
            "    accuracy                           0.58        31\n",
            "   macro avg       0.58      0.59      0.58        31\n",
            "weighted avg       0.60      0.58      0.58        31\n",
            "\n"
          ]
        }
      ]
    },
    {
      "cell_type": "markdown",
      "source": [
        "**Adaboost**"
      ],
      "metadata": {
        "id": "5IZ12oX-5_8W"
      }
    },
    {
      "cell_type": "code",
      "source": [
        "from sklearn.feature_selection import SelectKBest, mutual_info_regression\n",
        "from sklearn.pipeline import Pipeline\n",
        "from sklearn.ensemble import AdaBoostClassifier\n",
        "def adaboostpipeline(n):\n",
        "  pipeline =  Pipeline([\n",
        "      ('feature_selection', SelectKBest(mutual_info_regression,k=n)),\n",
        "      ('adaboost', AdaBoostClassifier()) ])\n",
        "\n",
        "  # 4. Define parameter grid for GridSearchCV\n",
        "  param_grid = {\n",
        "\n",
        "      'adaboost__n_estimators': [50, 100, 150], # Number of weak learners\n",
        "      'adaboost__learning_rate': [0.1, 0.5, 1.0] # Learning rate\n",
        "  }\n",
        "  f1_scorer = make_scorer(f1_score)\n",
        "  roc_auc_scorer = make_scorer(roc_auc_score)\n",
        "\n",
        "  input=merged_df3.drop(columns=['Date','Close2','Close2-Close1','next_day_close_increased'])\n",
        "  out=merged_df3['next_day_close_increased']\n",
        "\n",
        "  # 5. Perform grid search with cross-validation\n",
        "  grid_search = GridSearchCV(pipeline, param_grid=param_grid, cv=k_fold_time_series_blocking(),scoring={'f1': f1_scorer, 'roc_auc': roc_auc_scorer}, refit='f1', verbose=0)\n",
        "  grid_result = grid_search.fit(input, out)\n",
        "\n",
        "  selected_feature_names=[]\n",
        "  selected_features_bool=grid_result.best_estimator_.named_steps['feature_selection'].get_support()\n",
        "  for i in range(len(selected_features_bool)):\n",
        "    if(selected_features_bool[i]):\n",
        "      selected_feature_names.append(input.columns[i])\n",
        "\n",
        "  print(\"Selected Features:\", selected_feature_names)\n",
        "\n",
        "  print(\"Best F1 Score:\", grid_result.best_score_)\n",
        "  print(\"Best Parameters:\", grid_result.best_params_)\n",
        "    #get best weights\n",
        "  best_estimator = grid_result.best_estimator_\n",
        "\n",
        "  # Access the RandomForestClassifier from the best estimator\n",
        "  ada_model = best_estimator.named_steps['adaboost']\n",
        "\n",
        "\n",
        "  return ada_model,grid_result.best_score_,selected_feature_names"
      ],
      "metadata": {
        "id": "aGsB9tdO_GQR"
      },
      "execution_count": 40,
      "outputs": []
    },
    {
      "cell_type": "code",
      "source": [
        "all_weights={}\n",
        "all_selected_features={}\n",
        "max_f1_index=0\n",
        "max_f1=0\n",
        "\n",
        "for i in range(3,16):\n",
        "  print(\"i: \",i)\n",
        "  weights,best_f1,selected_features=adaboostpipeline(i) #i is number of features\n",
        "\n",
        "  max_f1=max(max_f1,best_f1)\n",
        "  if max_f1==best_f1:\n",
        "    max_f1_index=i\n",
        "\n",
        "  all_weights[i]=weights\n",
        "  all_selected_features[i]=selected_features\n",
        "\n",
        "\n",
        "print(\"index:\",max_f1_index)\n",
        "print(\"max_f1:\",max_f1)"
      ],
      "metadata": {
        "id": "rg3AESZk_ML1",
        "colab": {
          "base_uri": "https://localhost:8080/"
        },
        "outputId": "41738800-feaf-4a0d-fb56-b346599d07fd"
      },
      "execution_count": 41,
      "outputs": [
        {
          "output_type": "stream",
          "name": "stdout",
          "text": [
            "i:  3\n",
            "Selected Features: ['Volume', 'macd', 'OBV']\n",
            "Best F1 Score: 0.38178042030209214\n",
            "Best Parameters: {'adaboost__learning_rate': 1.0, 'adaboost__n_estimators': 100}\n",
            "i:  4\n",
            "Selected Features: ['Volume', 'macd', 'macd_signal', 'OBV']\n",
            "Best F1 Score: 0.4092862039920863\n",
            "Best Parameters: {'adaboost__learning_rate': 1.0, 'adaboost__n_estimators': 150}\n",
            "i:  5\n",
            "Selected Features: ['Volume', 'macd', 'macd_signal', 'High-Low', 'OBV']\n",
            "Best F1 Score: 0.3352852049910874\n",
            "Best Parameters: {'adaboost__learning_rate': 1.0, 'adaboost__n_estimators': 50}\n",
            "i:  6\n",
            "Selected Features: ['High', 'Volume', 'macd', 'macd_signal', 'High-Low', 'OBV']\n",
            "Best F1 Score: 0.3722549019607843\n",
            "Best Parameters: {'adaboost__learning_rate': 1.0, 'adaboost__n_estimators': 50}\n",
            "i:  7\n",
            "Selected Features: ['High', 'Adj Close', 'Volume', 'macd', 'macd_signal', 'High-Low', 'OBV']\n",
            "Best F1 Score: 0.36236768391567153\n",
            "Best Parameters: {'adaboost__learning_rate': 1.0, 'adaboost__n_estimators': 50}\n",
            "i:  8\n",
            "Selected Features: ['High', 'Close', 'Adj Close', 'Volume', 'macd', 'macd_signal', 'High-Low', 'OBV']\n",
            "Best F1 Score: 0.3552777777777778\n",
            "Best Parameters: {'adaboost__learning_rate': 0.5, 'adaboost__n_estimators': 100}\n",
            "i:  9\n",
            "Selected Features: ['High', 'Close', 'Adj Close', 'Volume', 'RSI_14', 'macd', 'macd_signal', 'High-Low', 'OBV']\n",
            "Best F1 Score: 0.4114249424466142\n",
            "Best Parameters: {'adaboost__learning_rate': 1.0, 'adaboost__n_estimators': 50}\n",
            "i:  10\n",
            "Selected Features: ['High', 'Close', 'Adj Close', 'Volume', 'RSI_14', 'macd', 'macd_signal', 'BB_lower', 'High-Low', 'OBV']\n",
            "Best F1 Score: 0.3954824561403508\n",
            "Best Parameters: {'adaboost__learning_rate': 1.0, 'adaboost__n_estimators': 150}\n",
            "i:  11\n",
            "Selected Features: ['Open', 'High', 'Close', 'Adj Close', 'Volume', 'RSI_14', 'macd', 'macd_signal', 'BB_lower', 'High-Low', 'OBV']\n",
            "Best F1 Score: 0.3752373581011351\n",
            "Best Parameters: {'adaboost__learning_rate': 0.1, 'adaboost__n_estimators': 150}\n",
            "i:  12\n",
            "Selected Features: ['Open', 'High', 'Close', 'Adj Close', 'Volume', 'RSI_14', 'macd', 'macd_signal', 'BB_lower', 'High-Low', 'OBV', 'BB_height']\n",
            "Best F1 Score: 0.4299139285207397\n",
            "Best Parameters: {'adaboost__learning_rate': 1.0, 'adaboost__n_estimators': 50}\n",
            "i:  13\n",
            "Selected Features: ['Open', 'High', 'Close', 'Adj Close', 'Volume', 'RSI_14', 'macd', 'macd_signal', 'BB_lower', 'Close-Open', 'High-Low', 'OBV', 'BB_height']\n",
            "Best F1 Score: 0.4507108740932271\n",
            "Best Parameters: {'adaboost__learning_rate': 1.0, 'adaboost__n_estimators': 50}\n",
            "i:  14\n",
            "Selected Features: ['Open', 'High', 'Close', 'Adj Close', 'Volume', 'RSI_14', 'macd', 'macd_signal', 'BB_middle', 'BB_lower', 'Close-Open', 'High-Low', 'OBV', 'BB_height']\n",
            "Best F1 Score: 0.5191409897292251\n",
            "Best Parameters: {'adaboost__learning_rate': 1.0, 'adaboost__n_estimators': 50}\n",
            "i:  15\n",
            "Selected Features: ['Open', 'High', 'Close', 'Adj Close', 'Volume', 'RSI_14', 'macd', 'macd_signal', 'BB_upper', 'BB_middle', 'BB_lower', 'Close-Open', 'High-Low', 'OBV', 'BB_height']\n",
            "Best F1 Score: 0.5532043910681681\n",
            "Best Parameters: {'adaboost__learning_rate': 0.5, 'adaboost__n_estimators': 100}\n",
            "index: 15\n",
            "max_f1: 0.5532043910681681\n"
          ]
        }
      ]
    },
    {
      "cell_type": "code",
      "source": [
        "import pickle\n",
        "ada_model=all_weights[max_f1_index]\n",
        "with open('ada_model_k10_BTC_only.pkl', 'wb') as f:\n",
        "    pickle.dump(ada_model, f)"
      ],
      "metadata": {
        "id": "i6gBqBVXgvZ7"
      },
      "execution_count": 42,
      "outputs": []
    },
    {
      "cell_type": "code",
      "source": [
        "# Use the loaded model to make predictions on new data\n",
        "\n",
        "from sklearn.metrics import classification_report\n",
        "\n",
        "df_backtest=pd.read_csv('BTC-USD-backtest-cleaned-final.csv')#backtest dataset\n",
        "\n",
        "with open('ada_model_k10_BTC_only.pkl', 'rb') as f:\n",
        "    trained_model = pickle.load(f)\n",
        "\n",
        "\n",
        "selected_feats=all_selected_features[max_f1_index]\n",
        "X_test = df_backtest[selected_feats]\n",
        "y_true=df_backtest['next_day_close_increased']\n",
        "predictions = trained_model.predict(X_test.values)\n",
        "\n",
        "# Generate the classification report\n",
        "report = classification_report(y_true, predictions)\n",
        "\n",
        "# Print the classification report\n",
        "print(report)"
      ],
      "metadata": {
        "id": "sFACmX6zg1EA",
        "colab": {
          "base_uri": "https://localhost:8080/"
        },
        "outputId": "faf16c97-714c-432b-8aa4-e168181467cb"
      },
      "execution_count": 43,
      "outputs": [
        {
          "output_type": "stream",
          "name": "stdout",
          "text": [
            "              precision    recall  f1-score   support\n",
            "\n",
            "           0       0.58      0.39      0.47        18\n",
            "           1       0.42      0.62      0.50        13\n",
            "\n",
            "    accuracy                           0.48        31\n",
            "   macro avg       0.50      0.50      0.48        31\n",
            "weighted avg       0.52      0.48      0.48        31\n",
            "\n"
          ]
        }
      ]
    }
  ]
}