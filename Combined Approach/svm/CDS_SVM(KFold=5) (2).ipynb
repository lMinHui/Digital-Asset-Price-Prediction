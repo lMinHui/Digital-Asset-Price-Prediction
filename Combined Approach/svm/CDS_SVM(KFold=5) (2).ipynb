{
  "nbformat": 4,
  "nbformat_minor": 0,
  "metadata": {
    "colab": {
      "provenance": []
    },
    "kernelspec": {
      "name": "python3",
      "display_name": "Python 3"
    },
    "language_info": {
      "name": "python"
    }
  },
  "cells": [
    {
      "cell_type": "markdown",
      "source": [
        "**K-fold=5**"
      ],
      "metadata": {
        "id": "pO2nViFGFDyf"
      }
    },
    {
      "cell_type": "code",
      "execution_count": 1,
      "metadata": {
        "id": "U53eDc5oEThH"
      },
      "outputs": [],
      "source": [
        "import pandas as pd\n",
        "import numpy as np\n",
        "from sklearn.feature_selection import RFE\n",
        "from sklearn.svm import SVC\n",
        "from sklearn.model_selection import GridSearchCV\n",
        "from sklearn.metrics import make_scorer, roc_auc_score, f1_score\n",
        "merged_df3=pd.read_csv('final_combined_df.csv')\n",
        "\n",
        "#time series k fold cross validation split where k=5\n",
        "import math\n",
        "\n",
        "def k_fold_time_series_blocking(k=5):\n",
        "    merged_df3.reset_index(drop=True, inplace=True)\n",
        "    n=len(merged_df3)\n",
        "    fold_size=n//k\n",
        "    train_size= math.floor(0.8 * fold_size)\n",
        "    test_size=math.floor(0.2*fold_size)\n",
        "\n",
        "    indexes=[]\n",
        "\n",
        "    for i in range(k):\n",
        "        start_train=i*fold_size\n",
        "        end_train=start_train+train_size-1\n",
        "        start_test=end_train+1\n",
        "        end_test=start_test+test_size-1\n",
        "        yield np.arange(start_train, end_train, dtype=int),np.arange(start_test, end_test, dtype=int)"
      ]
    },
    {
      "cell_type": "markdown",
      "source": [
        "We will be automating the hyperparameter tuning (using GridSearch) and feature selection process (using SelectKbest)\n",
        "\n",
        "\n",
        "for each of the type of models below:\n",
        "\n",
        "1.Select n best features based on mutual_info_regression\n",
        "\n",
        "2.pass these n features into the model and conduct grid search with cross-validation , select the best hyperparameters based on aggregated f1 score over k folds\n",
        "\n",
        "3.for the best esimator , print its hyperparameters ,features selected as well as scores\n",
        "\n",
        "4.repeat for different n ( 3 to max_number of feature columns in dataset)"
      ],
      "metadata": {
        "id": "0ALGE8dELDjl"
      }
    },
    {
      "cell_type": "markdown",
      "source": [
        "**kernel=poly**"
      ],
      "metadata": {
        "id": "rHRUwg4cHR66"
      }
    },
    {
      "cell_type": "code",
      "source": [
        "from sklearn.feature_selection import SelectKBest, mutual_info_regression\n",
        "from sklearn.pipeline import Pipeline\n",
        "from sklearn.metrics import classification_report\n",
        "from sklearn.model_selection import cross_val_predict\n",
        "def train_pipeline(n):\n",
        "  pipeline = Pipeline([\n",
        "      ('feature_selection', SelectKBest(mutual_info_regression,k=n)),\n",
        "      ('svm', SVC(kernel='poly'))\n",
        "  ])\n",
        "\n",
        "  # 4. Define parameter grid for GridSearchCV\n",
        "  param_grid = {\n",
        "\n",
        "      'svm__C': [0.1, 1, 10],                # Regularization parameter\n",
        "      'svm__degree': [2, 3, 4],              # Degree of the polynomial kernel\n",
        "      'svm__coef0': [0.0, 1.0, 2.0]          # Independent term in the polynomial kernel\n",
        "  }\n",
        "  f1_scorer = make_scorer(f1_score)\n",
        "  roc_auc_scorer = make_scorer(roc_auc_score)\n",
        "\n",
        "  input=merged_df3.drop(columns=['Date','next_day_close_increased'])\n",
        "  out=merged_df3['next_day_close_increased']\n",
        "\n",
        "  # 5. Perform grid search with cross-validation\n",
        "  grid_search = GridSearchCV(pipeline, param_grid=param_grid, cv=k_fold_time_series_blocking(),scoring={'f1': f1_scorer, 'roc_auc': roc_auc_scorer}, refit='f1', verbose=0)\n",
        "  grid_result = grid_search.fit(input, out)\n",
        "\n",
        "  selected_feature_names=[]\n",
        "  selected_features_bool=grid_result.best_estimator_.named_steps['feature_selection'].get_support()\n",
        "  for i in range(len(selected_features_bool)):\n",
        "    if(selected_features_bool[i]):\n",
        "      selected_feature_names.append(input.columns[i])\n",
        "\n",
        "  print(\"Selected Features:\", selected_feature_names)\n",
        "\n",
        "  print(\"Best F1 Score:\", grid_result.best_score_)\n",
        "  print(\"Best Parameters:\", grid_result.best_params_)\n",
        "  #get best weights\n",
        "  best_estimator = grid_result.best_estimator_\n",
        "\n",
        "  # Access the RandomForestClassifier from the best estimator\n",
        "  svm_model = best_estimator.named_steps['svm']\n",
        "\n",
        "\n",
        "  return svm_model,grid_result.best_score_,selected_feature_names\n"
      ],
      "metadata": {
        "id": "95jJL5mrG02h"
      },
      "execution_count": 2,
      "outputs": []
    },
    {
      "cell_type": "code",
      "source": [
        "all_weights={}\n",
        "all_selected_features={}\n",
        "max_f1_index=0\n",
        "max_f1=0\n",
        "\n",
        "for i in range(3,26):\n",
        "  print(\"i: \",i)\n",
        "  weights,best_f1,selected_features=train_pipeline(i) #i is number of features\n",
        "\n",
        "  max_f1=max(max_f1,best_f1)\n",
        "  if max_f1==best_f1:\n",
        "    max_f1_index=i\n",
        "\n",
        "  all_weights[i]=weights\n",
        "  all_selected_features[i]=selected_features\n",
        "\n",
        "\n",
        "print(\"index:\",max_f1_index)\n",
        "print(\"max_f1:\",max_f1)"
      ],
      "metadata": {
        "colab": {
          "base_uri": "https://localhost:8080/"
        },
        "id": "BVw_3a2WHWWy",
        "outputId": "42058662-3db9-4854-ccd3-a258f36f292b"
      },
      "execution_count": 3,
      "outputs": [
        {
          "output_type": "stream",
          "name": "stdout",
          "text": [
            "i:  3\n",
            "Selected Features: ['macd', 'BB_middle', 'sentiment_subjectivity']\n",
            "Best F1 Score: 0.5466666666666666\n",
            "Best Parameters: {'svm__C': 0.1, 'svm__coef0': 0.0, 'svm__degree': 4}\n",
            "i:  4\n",
            "Selected Features: ['Open', 'macd', 'BB_middle', 'sentiment_subjectivity']\n",
            "Best F1 Score: 0.5463398692810457\n",
            "Best Parameters: {'svm__C': 0.1, 'svm__coef0': 0.0, 'svm__degree': 4}\n",
            "i:  5\n",
            "Selected Features: ['Open', 'macd', 'BB_middle', 'High-Low', 'Interest Rate']\n",
            "Best F1 Score: 0.4833333333333333\n",
            "Best Parameters: {'svm__C': 1, 'svm__coef0': 0.0, 'svm__degree': 2}\n",
            "i:  6\n",
            "Selected Features: ['Open', 'macd', 'BB_middle', 'High-Low', 'OBV', 'sentiment_polarity']\n",
            "Best F1 Score: 0.5047619047619047\n",
            "Best Parameters: {'svm__C': 0.1, 'svm__coef0': 2.0, 'svm__degree': 3}\n",
            "i:  7\n",
            "Selected Features: ['Open', 'macd', 'BB_middle', 'High-Low', 'OBV', 'sentiment_subjectivity', 'Interest Rate']\n",
            "Best F1 Score: 0.5065359477124183\n",
            "Best Parameters: {'svm__C': 1, 'svm__coef0': 0.0, 'svm__degree': 2}\n",
            "i:  8\n",
            "Selected Features: ['Open', 'Close', 'Adj Close', 'macd', 'BB_middle', 'BB_lower', 'High-Low', 'OBV']\n",
            "Best F1 Score: 0.5\n",
            "Best Parameters: {'svm__C': 1, 'svm__coef0': 2.0, 'svm__degree': 2}\n",
            "i:  9\n",
            "Selected Features: ['Open', 'Close', 'Adj Close', 'macd', 'BB_middle', 'High-Low', 'OBV', 'sentiment_subjectivity', 'Interest Rate']\n",
            "Best F1 Score: 0.5073684210526316\n",
            "Best Parameters: {'svm__C': 0.1, 'svm__coef0': 2.0, 'svm__degree': 3}\n",
            "i:  10\n",
            "Selected Features: ['Open', 'Close', 'Adj Close', 'macd', 'BB_middle', 'High-Low', 'OBV', 'sentiment_polarity', 'sentiment_subjectivity', 'Interest Rate']\n",
            "Best F1 Score: 0.5042803086146739\n",
            "Best Parameters: {'svm__C': 1, 'svm__coef0': 0.0, 'svm__degree': 2}\n",
            "i:  11\n",
            "Selected Features: ['Open', 'Close', 'Adj Close', 'Volume', 'macd', 'macd_signal', 'BB_middle', 'BB_lower', 'High-Low', 'OBV', 'BB_height']\n",
            "Best F1 Score: 0.5179645191409897\n",
            "Best Parameters: {'svm__C': 0.1, 'svm__coef0': 2.0, 'svm__degree': 2}\n",
            "i:  12\n",
            "Selected Features: ['Open', 'Close', 'Adj Close', 'Volume', 'macd', 'macd_signal', 'BB_middle', 'BB_lower', 'High-Low', 'OBV', 'BB_height', 'sentiment_subjectivity']\n",
            "Best F1 Score: 0.4872377020983832\n",
            "Best Parameters: {'svm__C': 0.1, 'svm__coef0': 0.0, 'svm__degree': 3}\n",
            "i:  13\n",
            "Selected Features: ['Open', 'Close', 'Adj Close', 'Volume', 'macd', 'macd_signal', 'BB_middle', 'BB_lower', 'High-Low', 'OBV', 'BB_height', 'sentiment_subjectivity', 'Interest Rate']\n",
            "Best F1 Score: 0.5279034690799397\n",
            "Best Parameters: {'svm__C': 1, 'svm__coef0': 0.0, 'svm__degree': 2}\n",
            "i:  14\n",
            "Selected Features: ['Open', 'High', 'Close', 'Adj Close', 'Volume', 'macd', 'macd_signal', 'BB_middle', 'BB_lower', 'High-Low', 'OBV', 'BB_height', 'sentiment_subjectivity', 'SP_High']\n",
            "Best F1 Score: 0.5048265460030166\n",
            "Best Parameters: {'svm__C': 0.1, 'svm__coef0': 2.0, 'svm__degree': 2}\n",
            "i:  15\n",
            "Selected Features: ['Open', 'High', 'Close', 'Adj Close', 'Volume', 'macd', 'macd_signal', 'BB_middle', 'BB_lower', 'High-Low', 'OBV', 'BB_height', 'sentiment_polarity', 'sentiment_subjectivity', 'SP_High']\n",
            "Best F1 Score: 0.5049572649572649\n",
            "Best Parameters: {'svm__C': 0.1, 'svm__coef0': 1.0, 'svm__degree': 3}\n",
            "i:  16\n",
            "Selected Features: ['Open', 'High', 'Close', 'Adj Close', 'Volume', 'macd', 'macd_signal', 'BB_middle', 'BB_lower', 'High-Low', 'OBV', 'BB_height', 'sentiment_polarity', 'sentiment_subjectivity', 'SP_High', 'SP_Volume']\n",
            "Best F1 Score: 0.511484593837535\n",
            "Best Parameters: {'svm__C': 1, 'svm__coef0': 0.0, 'svm__degree': 2}\n",
            "i:  17\n",
            "Selected Features: ['Open', 'High', 'Close', 'Adj Close', 'Volume', 'macd', 'macd_signal', 'BB_middle', 'BB_lower', 'High-Low', 'OBV', 'BB_height', 'sentiment_polarity', 'sentiment_subjectivity', 'SP_High', 'SP_AdjClose', 'SP_Volume']\n",
            "Best F1 Score: 0.48795518207282906\n",
            "Best Parameters: {'svm__C': 0.1, 'svm__coef0': 2.0, 'svm__degree': 2}\n",
            "i:  18\n",
            "Selected Features: ['Open', 'High', 'Close', 'Adj Close', 'Volume', 'macd', 'macd_signal', 'BB_middle', 'BB_lower', 'High-Low', 'OBV', 'BB_height', 'sentiment_subjectivity', 'SP_High', 'SP_Low', 'SP_Close', 'SP_AdjClose', 'SP_Volume']\n",
            "Best F1 Score: 0.4905525846702317\n",
            "Best Parameters: {'svm__C': 0.1, 'svm__coef0': 2.0, 'svm__degree': 2}\n",
            "i:  19\n",
            "Selected Features: ['Open', 'High', 'Close', 'Adj Close', 'Volume', 'macd', 'macd_signal', 'BB_middle', 'BB_lower', 'High-Low', 'OBV', 'BB_height', 'sentiment_subjectivity', 'SP_Open', 'SP_High', 'SP_Low', 'SP_Close', 'SP_AdjClose', 'SP_Volume']\n",
            "Best F1 Score: 0.5065656565656566\n",
            "Best Parameters: {'svm__C': 0.1, 'svm__coef0': 1.0, 'svm__degree': 3}\n",
            "i:  20\n",
            "Selected Features: ['Open', 'High', 'Close', 'Adj Close', 'Volume', 'macd', 'macd_signal', 'BB_middle', 'BB_lower', 'High-Low', 'OBV', 'BB_height', 'sentiment_subjectivity', 'Interest Rate', 'SP_Open', 'SP_High', 'SP_Low', 'SP_Close', 'SP_AdjClose', 'SP_Volume']\n",
            "Best F1 Score: 0.5055258467023173\n",
            "Best Parameters: {'svm__C': 0.1, 'svm__coef0': 2.0, 'svm__degree': 2}\n",
            "i:  21\n",
            "Selected Features: ['Open', 'High', 'Close', 'Adj Close', 'Volume', 'macd', 'macd_signal', 'BB_middle', 'BB_lower', 'High-Low', 'OBV', 'BB_height', 'sentiment_polarity', 'sentiment_subjectivity', 'Interest Rate', 'SP_Open', 'SP_High', 'SP_Low', 'SP_Close', 'SP_AdjClose', 'SP_Volume']\n",
            "Best F1 Score: 0.5464349376114082\n",
            "Best Parameters: {'svm__C': 0.1, 'svm__coef0': 2.0, 'svm__degree': 2}\n",
            "i:  22\n",
            "Selected Features: ['Open', 'High', 'Close', 'Adj Close', 'Volume', 'macd', 'macd_signal', 'BB_middle', 'BB_lower', 'Close-Open', 'High-Low', 'OBV', 'BB_height', 'sentiment_polarity', 'sentiment_subjectivity', 'Interest Rate', 'SP_Open', 'SP_High', 'SP_Low', 'SP_Close', 'SP_AdjClose', 'SP_Volume']\n",
            "Best F1 Score: 0.5309803921568628\n",
            "Best Parameters: {'svm__C': 0.1, 'svm__coef0': 2.0, 'svm__degree': 2}\n",
            "i:  23\n",
            "Selected Features: ['Open', 'High', 'Close', 'Adj Close', 'Volume', 'macd', 'macd_signal', 'BB_upper', 'BB_middle', 'BB_lower', 'Close-Open', 'High-Low', 'OBV', 'BB_height', 'sentiment_polarity', 'sentiment_subjectivity', 'Interest Rate', 'SP_Open', 'SP_High', 'SP_Low', 'SP_Close', 'SP_AdjClose', 'SP_Volume']\n",
            "Best F1 Score: 0.5164349376114081\n",
            "Best Parameters: {'svm__C': 0.1, 'svm__coef0': 2.0, 'svm__degree': 2}\n",
            "i:  24\n",
            "Selected Features: ['Open', 'High', 'Close', 'Adj Close', 'Volume', 'RSI_14', 'macd', 'macd_signal', 'BB_upper', 'BB_middle', 'BB_lower', 'Close-Open', 'High-Low', 'OBV', 'BB_height', 'sentiment_polarity', 'sentiment_subjectivity', 'Interest Rate', 'SP_Open', 'SP_High', 'SP_Low', 'SP_Close', 'SP_AdjClose', 'SP_Volume']\n",
            "Best F1 Score: 0.5482905982905982\n",
            "Best Parameters: {'svm__C': 0.1, 'svm__coef0': 0.0, 'svm__degree': 3}\n",
            "i:  25\n",
            "Selected Features: ['Open', 'High', 'Low', 'Close', 'Adj Close', 'Volume', 'RSI_14', 'macd', 'macd_signal', 'BB_upper', 'BB_middle', 'BB_lower', 'Close-Open', 'High-Low', 'OBV', 'BB_height', 'sentiment_polarity', 'sentiment_subjectivity', 'Interest Rate', 'SP_Open', 'SP_High', 'SP_Low', 'SP_Close', 'SP_AdjClose', 'SP_Volume']\n",
            "Best F1 Score: 0.5316239316239315\n",
            "Best Parameters: {'svm__C': 0.1, 'svm__coef0': 0.0, 'svm__degree': 3}\n",
            "index: 24\n",
            "max_f1: 0.5482905982905982\n"
          ]
        }
      ]
    },
    {
      "cell_type": "code",
      "source": [
        "import pickle\n",
        "poly_model=all_weights[max_f1_index]\n",
        "with open('poly_svm_model_k5.pkl', 'wb') as f:\n",
        "    pickle.dump(poly_model, f)\n"
      ],
      "metadata": {
        "id": "VjK1udRPAytP"
      },
      "execution_count": 4,
      "outputs": []
    },
    {
      "cell_type": "code",
      "source": [
        "# Use the loaded model to make predictions on new data\n",
        "\n",
        "from sklearn.metrics import classification_report\n",
        "\n",
        "df_backtest=pd.read_csv('All-merged-backtest.csv')#backtest dataset\n",
        "\n",
        "with open('poly_svm_model_k5.pkl', 'rb') as f:\n",
        "    trained_model = pickle.load(f)\n",
        "\n",
        "\n",
        "selected_feats=all_selected_features[max_f1_index]\n",
        "X_test = df_backtest[selected_feats]\n",
        "y_true=df_backtest['next_day_close_increased']\n",
        "predictions = trained_model.predict(X_test.values)\n",
        "\n",
        "# Generate the classification report\n",
        "report = classification_report(y_true, predictions)\n",
        "\n",
        "# Print the classification report\n",
        "print(report)"
      ],
      "metadata": {
        "colab": {
          "base_uri": "https://localhost:8080/"
        },
        "id": "MQpzpUyjA8_I",
        "outputId": "6eb0374b-4f06-429b-d304-597527763aed"
      },
      "execution_count": 5,
      "outputs": [
        {
          "output_type": "stream",
          "name": "stdout",
          "text": [
            "              precision    recall  f1-score   support\n",
            "\n",
            "           0       0.77      0.67      0.71        15\n",
            "           1       0.38      0.50      0.43         6\n",
            "\n",
            "    accuracy                           0.62        21\n",
            "   macro avg       0.57      0.58      0.57        21\n",
            "weighted avg       0.66      0.62      0.63        21\n",
            "\n"
          ]
        }
      ]
    },
    {
      "cell_type": "markdown",
      "source": [
        "**kernel=rbf**"
      ],
      "metadata": {
        "id": "x5ixbIsxHaco"
      }
    },
    {
      "cell_type": "code",
      "source": [
        "from sklearn.feature_selection import SelectKBest, mutual_info_regression\n",
        "from sklearn.pipeline import Pipeline\n",
        "def train_pipeline(n):\n",
        "  pipeline = Pipeline([\n",
        "      ('feature_selection', SelectKBest(mutual_info_regression,k=n)),\n",
        "      ('svm', SVC(kernel='rbf'))\n",
        "  ])\n",
        "  param_grid = {\n",
        "\n",
        "      'svm__C': [0.1, 1, 10],                # Regularization parameter\n",
        "      'svm__gamma': [0.1, 1, 10, 100],\n",
        "\n",
        "  }\n",
        "\n",
        "  f1_scorer = make_scorer(f1_score)\n",
        "  roc_auc_scorer = make_scorer(roc_auc_score)\n",
        "\n",
        "  input=merged_df3.drop(columns=['Date','next_day_close_increased'])\n",
        "  out=merged_df3['next_day_close_increased']\n",
        "\n",
        "  # 5. Perform grid search with cross-validation\n",
        "  grid_search = GridSearchCV(pipeline, param_grid=param_grid, cv=k_fold_time_series_blocking(),scoring={'f1': f1_scorer, 'roc_auc': roc_auc_scorer}, refit='f1', verbose=0)\n",
        "  grid_result = grid_search.fit(input, out)\n",
        "\n",
        "  selected_feature_names=[]\n",
        "  selected_features_bool=grid_result.best_estimator_.named_steps['feature_selection'].get_support()\n",
        "  for i in range(len(selected_features_bool)):\n",
        "    if(selected_features_bool[i]):\n",
        "      selected_feature_names.append(input.columns[i])\n",
        "\n",
        "  print(\"Selected Features:\", selected_feature_names)\n",
        "\n",
        "  print(\"Best F1 Score:\", grid_result.best_score_)\n",
        "  print(\"Best Parameters:\", grid_result.best_params_)\n",
        "      #get best weights\n",
        "  best_estimator = grid_result.best_estimator_\n",
        "\n",
        "  # Access the RandomForestClassifier from the best estimator\n",
        "  svm_model = best_estimator.named_steps['svm']\n",
        "\n",
        "\n",
        "  return svm_model,grid_result.best_score_,selected_feature_names"
      ],
      "metadata": {
        "id": "UP2lyDGcHcta"
      },
      "execution_count": 6,
      "outputs": []
    },
    {
      "cell_type": "code",
      "source": [
        "all_weights={}\n",
        "all_selected_features={}\n",
        "max_f1_index=0\n",
        "max_f1=0\n",
        "\n",
        "for i in range(3,26):\n",
        "  print(\"i: \",i)\n",
        "  weights,best_f1,selected_features=train_pipeline(i) #i is number of features\n",
        "\n",
        "  max_f1=max(max_f1,best_f1)\n",
        "  if max_f1==best_f1:\n",
        "    max_f1_index=i\n",
        "\n",
        "  all_weights[i]=weights\n",
        "  all_selected_features[i]=selected_features\n",
        "\n",
        "\n",
        "print(\"index:\",max_f1_index)\n",
        "print(\"max_f1:\",max_f1)"
      ],
      "metadata": {
        "id": "wMU7T6bVHgeG",
        "colab": {
          "base_uri": "https://localhost:8080/"
        },
        "outputId": "427c5a04-04c4-48b5-bcf3-e81933da2d8b"
      },
      "execution_count": 7,
      "outputs": [
        {
          "output_type": "stream",
          "name": "stdout",
          "text": [
            "i:  3\n",
            "Selected Features: ['macd', 'BB_middle', 'sentiment_subjectivity']\n",
            "Best F1 Score: 0.3861111111111111\n",
            "Best Parameters: {'svm__C': 10, 'svm__gamma': 100}\n",
            "i:  4\n",
            "Selected Features: ['macd', 'BB_middle', 'sentiment_subjectivity', 'Interest Rate']\n",
            "Best F1 Score: 0.37777777777777777\n",
            "Best Parameters: {'svm__C': 10, 'svm__gamma': 10}\n",
            "i:  5\n",
            "Selected Features: ['Open', 'macd', 'BB_middle', 'High-Low', 'Interest Rate']\n",
            "Best F1 Score: 0.4224577280304834\n",
            "Best Parameters: {'svm__C': 10, 'svm__gamma': 10}\n",
            "i:  6\n",
            "Selected Features: ['Open', 'Adj Close', 'macd', 'BB_middle', 'High-Low', 'OBV']\n",
            "Best F1 Score: 0.4027777777777778\n",
            "Best Parameters: {'svm__C': 10, 'svm__gamma': 100}\n",
            "i:  7\n",
            "Selected Features: ['Open', 'Adj Close', 'macd', 'BB_middle', 'High-Low', 'OBV', 'sentiment_subjectivity']\n",
            "Best F1 Score: 0.42020202020202024\n",
            "Best Parameters: {'svm__C': 10, 'svm__gamma': 10}\n",
            "i:  8\n",
            "Selected Features: ['Open', 'Close', 'Adj Close', 'macd', 'BB_middle', 'High-Low', 'OBV', 'sentiment_subjectivity']\n",
            "Best F1 Score: 0.40390436876504987\n",
            "Best Parameters: {'svm__C': 10, 'svm__gamma': 1}\n",
            "i:  9\n",
            "Selected Features: ['Open', 'Close', 'Adj Close', 'macd', 'BB_middle', 'BB_lower', 'High-Low', 'OBV', 'sentiment_subjectivity']\n",
            "Best F1 Score: 0.45734037204625444\n",
            "Best Parameters: {'svm__C': 10, 'svm__gamma': 10}\n",
            "i:  10\n",
            "Selected Features: ['Open', 'Close', 'Adj Close', 'macd', 'BB_middle', 'BB_lower', 'High-Low', 'OBV', 'BB_height', 'sentiment_subjectivity']\n",
            "Best F1 Score: 0.42333333333333334\n",
            "Best Parameters: {'svm__C': 10, 'svm__gamma': 100}\n",
            "i:  11\n",
            "Selected Features: ['Open', 'Close', 'Adj Close', 'Volume', 'macd', 'BB_middle', 'BB_lower', 'High-Low', 'OBV', 'BB_height', 'sentiment_subjectivity']\n",
            "Best F1 Score: 0.3965359477124183\n",
            "Best Parameters: {'svm__C': 10, 'svm__gamma': 0.1}\n",
            "i:  12\n",
            "Selected Features: ['Open', 'Close', 'Adj Close', 'Volume', 'macd', 'macd_signal', 'BB_middle', 'BB_lower', 'High-Low', 'OBV', 'BB_height', 'sentiment_subjectivity']\n",
            "Best F1 Score: 0.4999999999999999\n",
            "Best Parameters: {'svm__C': 10, 'svm__gamma': 10}\n",
            "i:  13\n",
            "Selected Features: ['Open', 'Close', 'Adj Close', 'Volume', 'macd', 'macd_signal', 'BB_middle', 'BB_lower', 'High-Low', 'OBV', 'BB_height', 'sentiment_subjectivity', 'SP_High']\n",
            "Best F1 Score: 0.5207469654528477\n",
            "Best Parameters: {'svm__C': 10, 'svm__gamma': 100}\n",
            "i:  14\n",
            "Selected Features: ['Open', 'Close', 'Adj Close', 'Volume', 'macd', 'macd_signal', 'BB_middle', 'BB_lower', 'High-Low', 'OBV', 'BB_height', 'sentiment_subjectivity', 'Interest Rate', 'SP_High']\n",
            "Best F1 Score: 0.5476190476190477\n",
            "Best Parameters: {'svm__C': 10, 'svm__gamma': 10}\n",
            "i:  15\n",
            "Selected Features: ['Open', 'High', 'Close', 'Adj Close', 'Volume', 'macd', 'macd_signal', 'BB_middle', 'BB_lower', 'High-Low', 'OBV', 'BB_height', 'sentiment_subjectivity', 'SP_High', 'SP_Volume']\n",
            "Best F1 Score: 0.506218487394958\n",
            "Best Parameters: {'svm__C': 10, 'svm__gamma': 10}\n",
            "i:  16\n",
            "Selected Features: ['Open', 'High', 'Close', 'Adj Close', 'Volume', 'macd', 'macd_signal', 'BB_middle', 'BB_lower', 'High-Low', 'OBV', 'BB_height', 'SP_High', 'SP_Close', 'SP_AdjClose', 'SP_Volume']\n",
            "Best F1 Score: 0.4863492063492063\n",
            "Best Parameters: {'svm__C': 10, 'svm__gamma': 10}\n",
            "i:  17\n",
            "Selected Features: ['Open', 'High', 'Close', 'Adj Close', 'Volume', 'macd', 'macd_signal', 'BB_middle', 'BB_lower', 'High-Low', 'OBV', 'BB_height', 'sentiment_subjectivity', 'SP_High', 'SP_Close', 'SP_AdjClose', 'SP_Volume']\n",
            "Best F1 Score: 0.5309803921568628\n",
            "Best Parameters: {'svm__C': 10, 'svm__gamma': 10}\n",
            "i:  18\n",
            "Selected Features: ['Open', 'High', 'Close', 'Adj Close', 'Volume', 'macd', 'macd_signal', 'BB_middle', 'BB_lower', 'High-Low', 'OBV', 'BB_height', 'sentiment_subjectivity', 'Interest Rate', 'SP_High', 'SP_Close', 'SP_AdjClose', 'SP_Volume']\n",
            "Best F1 Score: 0.5678571428571428\n",
            "Best Parameters: {'svm__C': 10, 'svm__gamma': 10}\n",
            "i:  19\n",
            "Selected Features: ['Open', 'High', 'Close', 'Adj Close', 'Volume', 'macd', 'macd_signal', 'BB_middle', 'BB_lower', 'High-Low', 'OBV', 'BB_height', 'sentiment_polarity', 'sentiment_subjectivity', 'SP_High', 'SP_Low', 'SP_Close', 'SP_AdjClose', 'SP_Volume']\n",
            "Best F1 Score: 0.46904761904761905\n",
            "Best Parameters: {'svm__C': 10, 'svm__gamma': 10}\n",
            "i:  20\n",
            "Selected Features: ['Open', 'High', 'Close', 'Adj Close', 'Volume', 'macd', 'macd_signal', 'BB_middle', 'BB_lower', 'High-Low', 'OBV', 'BB_height', 'sentiment_polarity', 'sentiment_subjectivity', 'SP_Open', 'SP_High', 'SP_Low', 'SP_Close', 'SP_AdjClose', 'SP_Volume']\n",
            "Best F1 Score: 0.478021978021978\n",
            "Best Parameters: {'svm__C': 10, 'svm__gamma': 10}\n",
            "i:  21\n",
            "Selected Features: ['Open', 'High', 'Close', 'Adj Close', 'Volume', 'macd', 'macd_signal', 'BB_middle', 'BB_lower', 'High-Low', 'OBV', 'BB_height', 'sentiment_polarity', 'sentiment_subjectivity', 'Interest Rate', 'SP_Open', 'SP_High', 'SP_Low', 'SP_Close', 'SP_AdjClose', 'SP_Volume']\n",
            "Best F1 Score: 0.4219327731092437\n",
            "Best Parameters: {'svm__C': 10, 'svm__gamma': 0.1}\n",
            "i:  22\n",
            "Selected Features: ['Open', 'High', 'Close', 'Adj Close', 'Volume', 'macd', 'macd_signal', 'BB_middle', 'BB_lower', 'Close-Open', 'High-Low', 'OBV', 'BB_height', 'sentiment_polarity', 'sentiment_subjectivity', 'Interest Rate', 'SP_Open', 'SP_High', 'SP_Low', 'SP_Close', 'SP_AdjClose', 'SP_Volume']\n",
            "Best F1 Score: 0.42631578947368415\n",
            "Best Parameters: {'svm__C': 10, 'svm__gamma': 10}\n",
            "i:  23\n",
            "Selected Features: ['Open', 'High', 'Close', 'Adj Close', 'Volume', 'macd', 'macd_signal', 'BB_upper', 'BB_middle', 'BB_lower', 'Close-Open', 'High-Low', 'OBV', 'BB_height', 'sentiment_polarity', 'sentiment_subjectivity', 'Interest Rate', 'SP_Open', 'SP_High', 'SP_Low', 'SP_Close', 'SP_AdjClose', 'SP_Volume']\n",
            "Best F1 Score: 0.4132026143790849\n",
            "Best Parameters: {'svm__C': 10, 'svm__gamma': 0.1}\n",
            "i:  24\n",
            "Selected Features: ['Open', 'High', 'Close', 'Adj Close', 'Volume', 'RSI_14', 'macd', 'macd_signal', 'BB_upper', 'BB_middle', 'BB_lower', 'Close-Open', 'High-Low', 'OBV', 'BB_height', 'sentiment_polarity', 'sentiment_subjectivity', 'Interest Rate', 'SP_Open', 'SP_High', 'SP_Low', 'SP_Close', 'SP_AdjClose', 'SP_Volume']\n",
            "Best F1 Score: 0.39951840385276916\n",
            "Best Parameters: {'svm__C': 10, 'svm__gamma': 0.1}\n",
            "i:  25\n",
            "Selected Features: ['Open', 'High', 'Low', 'Close', 'Adj Close', 'Volume', 'RSI_14', 'macd', 'macd_signal', 'BB_upper', 'BB_middle', 'BB_lower', 'Close-Open', 'High-Low', 'OBV', 'BB_height', 'sentiment_polarity', 'sentiment_subjectivity', 'Interest Rate', 'SP_Open', 'SP_High', 'SP_Low', 'SP_Close', 'SP_AdjClose', 'SP_Volume']\n",
            "Best F1 Score: 0.39951840385276916\n",
            "Best Parameters: {'svm__C': 10, 'svm__gamma': 0.1}\n",
            "index: 18\n",
            "max_f1: 0.5678571428571428\n"
          ]
        }
      ]
    },
    {
      "cell_type": "code",
      "source": [
        "import pickle\n",
        "rbf_model=all_weights[max_f1_index]\n",
        "with open('rbf_svm_model_k5.pkl', 'wb') as f:\n",
        "    pickle.dump(rbf_model, f)"
      ],
      "metadata": {
        "id": "2FKMIWIhBLGs"
      },
      "execution_count": 8,
      "outputs": []
    },
    {
      "cell_type": "code",
      "source": [
        "# Use the loaded model to make predictions on new data\n",
        "\n",
        "from sklearn.metrics import classification_report\n",
        "\n",
        "df_backtest=pd.read_csv('All-merged-backtest.csv')#backtest dataset\n",
        "\n",
        "with open('rbf_svm_model_k5.pkl', 'rb') as f:\n",
        "    trained_model = pickle.load(f)\n",
        "\n",
        "\n",
        "selected_feats=all_selected_features[max_f1_index]\n",
        "X_test = df_backtest[selected_feats]\n",
        "y_true=df_backtest['next_day_close_increased']\n",
        "predictions = trained_model.predict(X_test.values)\n",
        "\n",
        "# Generate the classification report\n",
        "report = classification_report(y_true, predictions)\n",
        "\n",
        "# Print the classification report\n",
        "print(report)"
      ],
      "metadata": {
        "colab": {
          "base_uri": "https://localhost:8080/"
        },
        "id": "qWN_DefEBpOt",
        "outputId": "abb5864f-62d1-425f-a72b-671d1aa9a4d9"
      },
      "execution_count": 10,
      "outputs": [
        {
          "output_type": "stream",
          "name": "stdout",
          "text": [
            "              precision    recall  f1-score   support\n",
            "\n",
            "           0       0.00      0.00      0.00        15\n",
            "           1       0.29      1.00      0.44         6\n",
            "\n",
            "    accuracy                           0.29        21\n",
            "   macro avg       0.14      0.50      0.22        21\n",
            "weighted avg       0.08      0.29      0.13        21\n",
            "\n"
          ]
        },
        {
          "output_type": "stream",
          "name": "stderr",
          "text": [
            "/usr/local/lib/python3.10/dist-packages/sklearn/metrics/_classification.py:1344: UndefinedMetricWarning: Precision and F-score are ill-defined and being set to 0.0 in labels with no predicted samples. Use `zero_division` parameter to control this behavior.\n",
            "  _warn_prf(average, modifier, msg_start, len(result))\n",
            "/usr/local/lib/python3.10/dist-packages/sklearn/metrics/_classification.py:1344: UndefinedMetricWarning: Precision and F-score are ill-defined and being set to 0.0 in labels with no predicted samples. Use `zero_division` parameter to control this behavior.\n",
            "  _warn_prf(average, modifier, msg_start, len(result))\n",
            "/usr/local/lib/python3.10/dist-packages/sklearn/metrics/_classification.py:1344: UndefinedMetricWarning: Precision and F-score are ill-defined and being set to 0.0 in labels with no predicted samples. Use `zero_division` parameter to control this behavior.\n",
            "  _warn_prf(average, modifier, msg_start, len(result))\n"
          ]
        }
      ]
    }
  ]
}